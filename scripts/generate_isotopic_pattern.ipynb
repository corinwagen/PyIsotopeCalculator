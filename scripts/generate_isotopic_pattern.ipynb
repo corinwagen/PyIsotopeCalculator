{
 "cells": [
  {
   "cell_type": "code",
   "execution_count": 2,
   "metadata": {},
   "outputs": [],
   "source": [
    "import numpy as np\n",
    "import pandas as pd\n",
    "import matplotlib.pyplot as plt\n",
    "%matplotlib inline"
   ]
  },
  {
   "cell_type": "code",
   "execution_count": 3,
   "metadata": {},
   "outputs": [],
   "source": [
    "isotopes_df = pd.read_csv('../data/clean_isotopic_weights.csv')\n",
    "\n",
    "def get_mass(element,count):\n",
    "    #### Randomly pick (weighted) an isotope from isotopes_df\n",
    "    isotopes = isotopes_df[isotopes_df['Element'] == element]\n",
    "    return np.random.choice(a=isotopes['Mass'],p=isotopes['Weight'],size=count)    "
   ]
  },
  {
   "cell_type": "code",
   "execution_count": 4,
   "metadata": {},
   "outputs": [],
   "source": [
    "def generate_isotopic_pattern(chemical_formula, number_runs=1000):\n",
    "    #### Generates weighted random distribution of isotopomers\n",
    "    iteration = 0\n",
    "    masses = [None] * number_runs\n",
    "    while iteration < number_runs:\n",
    "        total_mass = 0\n",
    "        for element in chemical_formula.keys():\n",
    "            count = chemical_formula[element]\n",
    "            total_mass += np.sum(get_mass(element,count))\n",
    "        \n",
    "        masses[iteration] = total_mass\n",
    "        iteration += 1\n",
    "\n",
    "    return masses "
   ]
  },
  {
   "cell_type": "code",
   "execution_count": 5,
   "metadata": {},
   "outputs": [],
   "source": [
    "def virtual_imine_condensation(aldehyde, amine):\n",
    "    imine = {}\n",
    "    for element in isotopes_df['Element']:\n",
    "        #### There's certainly a more elegant way to do this\n",
    "        if (element in aldehyde) and (element in amine):\n",
    "            imine[element] = aldehyde[element] + amine[element]\n",
    "        elif element in aldehyde:\n",
    "            imine[element] = aldehyde[element]\n",
    "        elif element in amine:\n",
    "            imine[element] = amine[element]\n",
    "    \n",
    "    if 'O' in imine:\n",
    "        if imine['O'] == 1:\n",
    "            imine.pop('O')\n",
    "        else:\n",
    "            imine['O'] += -1\n",
    "    \n",
    "    imine['H'] += -2\n",
    "    \n",
    "    return imine"
   ]
  },
  {
   "cell_type": "code",
   "execution_count": 6,
   "metadata": {},
   "outputs": [],
   "source": [
    "aldehydes = [{'C':6,'H':12,'O':1},{'C':2,'H':4,'O':1},{'C':5,'H':10,'O':1},{'C':8,'H':8,'O':1},{'C':8,'H':8,'O':2}]\n",
    "amines = [{'C':10,'H':12,'N':2},{'C':17,'H':18,'N':2,'O':1},{'C':10,'H':11,'N':2,'Cl':1},{'C':10,'H':11,'N':2,'F':1},{'C':11,'H':14,'N':2,'O':1}]\n",
    "\n",
    "aldehyde_labels = ['nPent','Me','tBu','MePh','4OMePh']\n",
    "amine_labels = ['H','5OBn','5Cl','5F','6OMe']\n",
    "\n",
    "masses = [None] * (len(aldehydes) * len(amines))\n",
    "labels = [None] * (len(aldehydes) * len(amines))\n",
    "\n",
    "count = 0\n",
    "for i, aldehyde in enumerate(aldehydes):\n",
    "    for j, amine in enumerate(amines):\n",
    "        imine = virtual_imine_condensation(aldehyde,amine)\n",
    "        pattern = generate_isotopic_pattern(imine)\n",
    "        masses[count] = pattern\n",
    "        labels[count] = str(aldehyde_labels[i]) + \"-\" + str(amine_labels[j])\n",
    "        count += 1\n",
    "\n"
   ]
  },
  {
   "cell_type": "code",
   "execution_count": null,
   "metadata": {},
   "outputs": [],
   "source": [
    "x_min = 150\n",
    "x_max = 400\n",
    "\n",
    "low_res_mass = np.arange(x_min,x_max+1,0.1)\n",
    "figure, axes = plt.subplots(figsize=(15,10))\n",
    "axes.set_xlim(left=x_min,right=x_max)\n",
    "\n",
    "plt.hist(masses,bins=low_res_mass,label=labels,rwidth=1)\n",
    "plt.legend(loc='best')\n",
    "plt.xlabel('m/z')\n",
    "plt.ylabel('counts')\n",
    "plt.title('Simulated Mass Spectrum')\n",
    "plt.show()"
   ]
  },
  {
   "cell_type": "code",
   "execution_count": null,
   "metadata": {},
   "outputs": [],
   "source": []
  }
 ],
 "metadata": {
  "kernelspec": {
   "display_name": "Python 3",
   "language": "python",
   "name": "python3"
  },
  "language_info": {
   "codemirror_mode": {
    "name": "ipython",
    "version": 3
   },
   "file_extension": ".py",
   "mimetype": "text/x-python",
   "name": "python",
   "nbconvert_exporter": "python",
   "pygments_lexer": "ipython3",
   "version": "3.7.3"
  }
 },
 "nbformat": 4,
 "nbformat_minor": 2
}
