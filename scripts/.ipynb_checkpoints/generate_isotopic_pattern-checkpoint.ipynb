{
 "cells": [
  {
   "cell_type": "code",
   "execution_count": 1,
   "metadata": {},
   "outputs": [],
   "source": [
    "import numpy as np\n",
    "import pandas as pd\n",
    "import matplotlib.pyplot as plt\n",
    "%matplotlib inline"
   ]
  },
  {
   "cell_type": "code",
   "execution_count": 3,
   "metadata": {},
   "outputs": [],
   "source": [
    "isotopes_df = pd.read_csv('../data/clean_isotopic_weights.csv')\n",
    "\n",
    "def get_mass(element,count):\n",
    "    #### Randomly pick (weighted) an isotope from isotopes_df\n",
    "    isotopes = isotopes_df[isotopes_df['Element'] == element]\n",
    "    return np.random.choice(a=isotopes['Mass'],p=isotopes['Weight'],size=count)    "
   ]
  },
  {
   "cell_type": "code",
   "execution_count": 4,
   "metadata": {},
   "outputs": [],
   "source": [
    "def generate_isotopic_pattern(chemical_formula, number_runs=1000):\n",
    "    #### Generates weighted random distribution of isotopomers\n",
    "    iteration = 0\n",
    "    masses = [None] * number_runs\n",
    "    while iteration < number_runs:\n",
    "        total_mass = 0\n",
    "        for element in chemical_formula.keys():\n",
    "            count = chemical_formula[element]\n",
    "            total_mass += np.sum(get_mass(element,count))\n",
    "        \n",
    "        masses[iteration] = total_mass\n",
    "        iteration += 1\n",
    "\n",
    "    return masses "
   ]
  },
  {
   "cell_type": "code",
   "execution_count": 5,
   "metadata": {},
   "outputs": [],
   "source": [
    "def virtual_imine_condensation(aldehyde, amine):\n",
    "    imine = {}\n",
    "    for element in isotopes_df['Element']:\n",
    "        #### There's certainly a more elegant way to do this\n",
    "        if (element in aldehyde) and (element in amine):\n",
    "            imine[element] = aldehyde[element] + amine[element]\n",
    "        elif element in aldehyde:\n",
    "            imine[element] = aldehyde[element]\n",
    "        elif element in amine:\n",
    "            imine[element] = amine[element]\n",
    "    \n",
    "    if 'O' in imine:\n",
    "        if imine['O'] == 1:\n",
    "            imine.pop('O')\n",
    "        else:\n",
    "            imine['O'] += -1\n",
    "    \n",
    "    imine['H'] += -2\n",
    "    \n",
    "    return imine"
   ]
  },
  {
   "cell_type": "code",
   "execution_count": 6,
   "metadata": {},
   "outputs": [
    {
     "data": {
      "text/plain": [
       "<Figure size 720x720 with 0 Axes>"
      ]
     },
     "metadata": {},
     "output_type": "display_data"
    }
   ],
   "source": [
    "aldehydes = [{'C':6,'H':12,'O':1},{'C':6,'H':12,'O':2}]\n",
    "amines = [{'C':5,'H':13,'N':1},{'C':5,'H':14,'N':2}]\n",
    "plt.figure(figsize=(10,10))\n",
    "masses = []\n",
    "for aldehyde in aldehydes\n",
    "    for amine in amines:\n",
    "        imine = virtual_imine_condensation(aldehyde,amine)\n",
    "        pattern = generate_isotopic_pattern(imine)\n",
    "        masses = np.concatenate((masses,pattern))\n",
    "plt.hist(masses,bins=)\n",
    "plt.show()"
   ]
  }
 ],
 "metadata": {
  "kernelspec": {
   "display_name": "Python 3",
   "language": "python",
   "name": "python3"
  },
  "language_info": {
   "codemirror_mode": {
    "name": "ipython",
    "version": 3
   },
   "file_extension": ".py",
   "mimetype": "text/x-python",
   "name": "python",
   "nbconvert_exporter": "python",
   "pygments_lexer": "ipython3",
   "version": "3.7.3"
  }
 },
 "nbformat": 4,
 "nbformat_minor": 2
}
